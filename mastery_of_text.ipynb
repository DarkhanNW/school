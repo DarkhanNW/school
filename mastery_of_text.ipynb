{
 "cells": [
  {
   "cell_type": "code",
   "execution_count": 49,
   "id": "c39204af-888c-4dfe-8e04-b85a98ecd41b",
   "metadata": {},
   "outputs": [
    {
     "name": "stdout",
     "output_type": "stream",
     "text": [
      "ANSWERS:\n",
      "1: 99968 lines\n",
      "2: 795227 words\n",
      "3: 47 appearances of the word 'apostle'\n",
      "4: Most common word is: 'the'\n"
     ]
    }
   ],
   "source": [
    "from urllib.request import urlopen\n",
    "url = \"https://www.gutenberg.org/cache/epub/10/pg10.txt\"\n",
    "with urlopen(url) as f:\n",
    "    pg10 = f.read().decode('utf-8', errors='ignore')\n",
    "    \n",
    "def get_num_lines(txtfile):\n",
    "    return len(txtfile.splitlines())\n",
    "\n",
    "def get_num_words(txtfile):\n",
    "    word_count = 0\n",
    "    in_word = False\n",
    "    for ch in txtfile:\n",
    "        if ch.isalpha():\n",
    "            if not in_word:\n",
    "                word_count += 1\n",
    "                in_word = True\n",
    "        else:\n",
    "            in_word = False\n",
    "    return word_count\n",
    "\n",
    "def get_num_specific_word(word, txtfile):\n",
    "    word_count = 0\n",
    "    target_word = word.lower()\n",
    "    current_word = []\n",
    "    for ch in txtfile.lower():\n",
    "        if ch.isalpha():\n",
    "                current_word.append(ch)\n",
    "        else:\n",
    "            if current_word:\n",
    "                if \"\".join(current_word) == target_word:\n",
    "                    word_count += 1\n",
    "                current_word = []\n",
    "    if current_word and \"\".join(current_word) == target_word:\n",
    "        word_count += 1\n",
    "    return word_count\n",
    "\n",
    "def get_most_common_word(txtfile):\n",
    "    current_word = []\n",
    "    word_list = []\n",
    "    word_dict = {}\n",
    "    for ch in txtfile.lower():\n",
    "        if ch.isalpha():\n",
    "                current_word.append(ch)\n",
    "        else:\n",
    "            if current_word:\n",
    "                word_list.append(\"\".join(current_word))\n",
    "                current_word = []\n",
    "    if current_word:\n",
    "        word_list.append(\"\".join(current_word))\n",
    "\n",
    "    for word in word_list:\n",
    "        if word in word_dict:\n",
    "            word_dict[word] += 1\n",
    "        else:\n",
    "            word_dict[word] = 1\n",
    "    return max(word_dict.items(), key=lambda item: item[1])[0]\n",
    "        \n",
    "def main():\n",
    "    print(\"ANSWERS:\")\n",
    "    print(f\"1: {get_num_lines(pg10)} lines\")\n",
    "    print(f\"2: {get_num_words(pg10)} words\")\n",
    "    print(f\"3: {get_num_specific_word(\"apostle\", pg10)} appearances of the word 'apostle'\")\n",
    "    print(f\"4: Most common word is: '{get_most_common_word(pg10)}'\")\n",
    "\n",
    "main()"
   ]
  },
  {
   "cell_type": "code",
   "execution_count": null,
   "id": "04242e09-31de-4d10-a4ec-ca4f66953f49",
   "metadata": {},
   "outputs": [],
   "source": []
  }
 ],
 "metadata": {
  "kernelspec": {
   "display_name": "Python [conda env:base] *",
   "language": "python",
   "name": "conda-base-py"
  },
  "language_info": {
   "codemirror_mode": {
    "name": "ipython",
    "version": 3
   },
   "file_extension": ".py",
   "mimetype": "text/x-python",
   "name": "python",
   "nbconvert_exporter": "python",
   "pygments_lexer": "ipython3",
   "version": "3.13.5"
  }
 },
 "nbformat": 4,
 "nbformat_minor": 5
}
